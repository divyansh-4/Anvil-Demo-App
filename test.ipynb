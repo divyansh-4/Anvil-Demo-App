{
 "cells": [
  {
   "cell_type": "code",
   "execution_count": 4,
   "metadata": {},
   "outputs": [],
   "source": [
    "import anvil.server\n",
    "import unittest\n",
    "from wrapper import app_tables"
   ]
  },
  {
   "cell_type": "code",
   "execution_count": 2,
   "metadata": {},
   "outputs": [],
   "source": [
    "from anvil.tables import app_tables as anvil_app_tables"
   ]
  },
  {
   "cell_type": "code",
   "execution_count": 3,
   "metadata": {},
   "outputs": [
    {
     "name": "stdout",
     "output_type": "stream",
     "text": [
      "Connecting to wss://anvil.works/uplink\n",
      "Anvil websocket open\n",
      "Connected to \"Default Environment\" as SERVER\n",
      "[LiveRow(movies, {'movie_name': 'Movie1', 'year': 2010, 'director': 'Random person', 'summary': 'This is a basic summary'}), LiveRow(movies, {'movie_name': 'The Matrix', 'year': 2009, 'director': 'Tony Stark', 'summary': 'Summary of the matrix movie here.'}), LiveRow(movies, {'movie_name': 'Godfather', 'year': 1980, 'director': 'Nolan M', 'summary': 'Mafia don story in Chicago'})]\n",
      "[{'year': 2010, 'summary': 'This is a basic summary', 'director': 'Random person', 'movie_name': 'Movie1'}, {'year': 2009, 'summary': 'Summary of the matrix movie here.', 'director': 'Tony Stark', 'movie_name': 'The Matrix'}, {'year': 1980, 'summary': 'Mafia don story in Chicago', 'director': 'Nolan M', 'movie_name': 'Godfather'}]\n"
     ]
    }
   ],
   "source": [
    "anvil.server.connect(\"server_EUULOP6PWUBMCRVWHL6SUTVD-LYUQJELFCMQWM33V\")\n",
    "movies=app_tables.movies.search()\n",
    "anvil_movies=anvil_app_tables.movies.search()\n",
    "print(list(movies))\n",
    "\n",
    "anvil_movies_list=[]\n",
    "for i in range(len(list(anvil_movies))):\n",
    "    temp={}\n",
    "    for k,v in list(anvil_movies)[i]:\n",
    "        temp[k]=v\n",
    "        # print(k,v)\n",
    "    anvil_movies_list.append(temp)\n",
    "    # print(temp)\n",
    "print(anvil_movies_list)"
   ]
  },
  {
   "cell_type": "code",
   "execution_count": 5,
   "metadata": {},
   "outputs": [
    {
     "name": "stdout",
     "output_type": "stream",
     "text": [
      "Error adding row to movies: local variable 'values' referenced before assignment\n",
      "{'movie_name': 'Interstellar', 'year': 2009, 'director': 'Christopher Nolan', 'summary': 'Summary of the movie interstellar'}\n"
     ]
    },
    {
     "ename": "AnvilWrappedError",
     "evalue": "local variable 'values' referenced before assignment",
     "output_type": "error",
     "traceback": [
      "\u001b[0;31m---------------------------------------------------------------------------\u001b[0m",
      "\u001b[0;31mAnvilWrappedError\u001b[0m                         Traceback (most recent call last)",
      "File \u001b[0;32m~/.local/lib/python3.10/site-packages/anvil/server.py:419\u001b[0m, in \u001b[0;36mcall\u001b[0;34m(fn_name, *args, **kwargs)\u001b[0m\n\u001b[1;32m    418\u001b[0m \u001b[38;5;28;01mtry\u001b[39;00m:\n\u001b[0;32m--> 419\u001b[0m     \u001b[38;5;28;01mreturn\u001b[39;00m \u001b[43m_do_call\u001b[49m\u001b[43m(\u001b[49m\u001b[43margs\u001b[49m\u001b[43m,\u001b[49m\u001b[43m \u001b[49m\u001b[43mkwargs\u001b[49m\u001b[43m,\u001b[49m\u001b[43m \u001b[49m\u001b[43mfn_name\u001b[49m\u001b[38;5;241;43m=\u001b[39;49m\u001b[43mfn_name\u001b[49m\u001b[43m)\u001b[49m\n\u001b[1;32m    420\u001b[0m \u001b[38;5;28;01mexcept\u001b[39;00m _server\u001b[38;5;241m.\u001b[39mAnvilWrappedError \u001b[38;5;28;01mas\u001b[39;00m e:\n\u001b[1;32m    421\u001b[0m     \u001b[38;5;66;03m# We need to re-raise here so that the right amount of traceback gets cut off by _report_exception\u001b[39;00m\n",
      "File \u001b[0;32m~/.local/lib/python3.10/site-packages/anvil/server.py:409\u001b[0m, in \u001b[0;36m_do_call\u001b[0;34m(args, kwargs, fn_name, live_object)\u001b[0m\n\u001b[1;32m    407\u001b[0m     \u001b[38;5;28;01mraise\u001b[39;00m \u001b[38;5;167;01mException\u001b[39;00m(\u001b[38;5;124m\"\u001b[39m\u001b[38;5;124mAnvil fatal error: \u001b[39m\u001b[38;5;124m\"\u001b[39m \u001b[38;5;241m+\u001b[39m \u001b[38;5;28mstr\u001b[39m(_fatal_error))\n\u001b[0;32m--> 409\u001b[0m \u001b[38;5;28;01mreturn\u001b[39;00m \u001b[43m_threaded_server\u001b[49m\u001b[38;5;241;43m.\u001b[39;49m\u001b[43mdo_call\u001b[49m\u001b[43m(\u001b[49m\u001b[43margs\u001b[49m\u001b[43m,\u001b[49m\u001b[43m \u001b[49m\u001b[43mkwargs\u001b[49m\u001b[43m,\u001b[49m\u001b[43m \u001b[49m\u001b[43mfn_name\u001b[49m\u001b[38;5;241;43m=\u001b[39;49m\u001b[43mfn_name\u001b[49m\u001b[43m,\u001b[49m\u001b[43m \u001b[49m\u001b[43mlive_object\u001b[49m\u001b[38;5;241;43m=\u001b[39;49m\u001b[43mlive_object\u001b[49m\u001b[43m)\u001b[49m\n",
      "File \u001b[0;32m~/.local/lib/python3.10/site-packages/anvil/_threaded_server.py:436\u001b[0m, in \u001b[0;36mdo_call\u001b[0;34m(args, kwargs, fn_name, live_object)\u001b[0m\n\u001b[1;32m    435\u001b[0m     error_from_server \u001b[38;5;241m=\u001b[39m _server\u001b[38;5;241m.\u001b[39m_deserialise_exception(r[\u001b[38;5;124m\"\u001b[39m\u001b[38;5;124merror\u001b[39m\u001b[38;5;124m\"\u001b[39m])\n\u001b[0;32m--> 436\u001b[0m     \u001b[38;5;28;01mraise\u001b[39;00m error_from_server\n\u001b[1;32m    437\u001b[0m \u001b[38;5;28;01melse\u001b[39;00m:\n",
      "\u001b[0;31mAnvilWrappedError\u001b[0m: local variable 'values' referenced before assignment",
      "\nDuring handling of the above exception, another exception occurred:\n",
      "\u001b[0;31mAnvilWrappedError\u001b[0m                         Traceback (most recent call last)",
      "Cell \u001b[0;32mIn[5], line 1\u001b[0m\n\u001b[0;32m----> 1\u001b[0m \u001b[43mapp_tables\u001b[49m\u001b[38;5;241;43m.\u001b[39;49m\u001b[43mmovies\u001b[49m\u001b[38;5;241;43m.\u001b[39;49m\u001b[43madd_row\u001b[49m\u001b[43m(\u001b[49m\u001b[43mmovie_name\u001b[49m\u001b[38;5;241;43m=\u001b[39;49m\u001b[38;5;124;43m\"\u001b[39;49m\u001b[38;5;124;43mInterstellar\u001b[39;49m\u001b[38;5;124;43m\"\u001b[39;49m\u001b[43m,\u001b[49m\u001b[43m \u001b[49m\u001b[43myear\u001b[49m\u001b[38;5;241;43m=\u001b[39;49m\u001b[38;5;241;43m2009\u001b[39;49m\u001b[43m,\u001b[49m\u001b[43m \u001b[49m\u001b[43mdirector\u001b[49m\u001b[38;5;241;43m=\u001b[39;49m\u001b[38;5;124;43m\"\u001b[39;49m\u001b[38;5;124;43mChristopher Nolan\u001b[39;49m\u001b[38;5;124;43m\"\u001b[39;49m\u001b[43m,\u001b[49m\u001b[43msummary\u001b[49m\u001b[38;5;241;43m=\u001b[39;49m\u001b[38;5;124;43m\"\u001b[39;49m\u001b[38;5;124;43mSummary of the movie interstellar\u001b[39;49m\u001b[38;5;124;43m\"\u001b[39;49m\u001b[43m)\u001b[49m\n",
      "File \u001b[0;32m~/repos/Anvil-Demo-App/wrapper.py:210\u001b[0m, in \u001b[0;36mTable.add_row\u001b[0;34m(self, **kwargs)\u001b[0m\n\u001b[1;32m    207\u001b[0m \u001b[38;5;250m        \u001b[39m\u001b[38;5;124;03m\"\"\"Adds a new row to the table.\"\"\"\u001b[39;00m\n\u001b[1;32m    208\u001b[0m         \u001b[38;5;28;01mtry\u001b[39;00m:\n\u001b[1;32m    209\u001b[0m \u001b[38;5;66;03m#             print(f\"Adding row to {self._table_name} with data: {kwargs}\")  # Debug log\u001b[39;00m\n\u001b[0;32m--> 210\u001b[0m             row_id \u001b[38;5;241m=\u001b[39m \u001b[43manvil\u001b[49m\u001b[38;5;241;43m.\u001b[39;49m\u001b[43mserver\u001b[49m\u001b[38;5;241;43m.\u001b[39;49m\u001b[43mcall\u001b[49m\u001b[43m(\u001b[49m\u001b[38;5;124;43m'\u001b[39;49m\u001b[38;5;124;43madd_row\u001b[39;49m\u001b[38;5;124;43m'\u001b[39;49m\u001b[43m,\u001b[49m\u001b[43m \u001b[49m\u001b[38;5;28;43mself\u001b[39;49m\u001b[38;5;241;43m.\u001b[39;49m\u001b[43m_table_name\u001b[49m\u001b[43m,\u001b[49m\u001b[43m \u001b[49m\u001b[38;5;241;43m*\u001b[39;49m\u001b[38;5;241;43m*\u001b[39;49m\u001b[43mkwargs\u001b[49m\u001b[43m)\u001b[49m\n\u001b[1;32m    212\u001b[0m             \u001b[38;5;66;03m# Also add to original_app_tables if replication is enabled\u001b[39;00m\n\u001b[1;32m    213\u001b[0m             \u001b[38;5;66;03m#if REPLICATE_TO_ANVIL and self._table_name in dir(original_app_tables):\u001b[39;00m\n\u001b[1;32m    214\u001b[0m             \u001b[38;5;66;03m### GS MODIFICATION USING TABLES instead of DIR\u001b[39;00m\n\u001b[1;32m    215\u001b[0m             \u001b[38;5;28;01mif\u001b[39;00m REPLICATE_TO_ANVIL \u001b[38;5;129;01mand\u001b[39;00m \u001b[38;5;28mself\u001b[39m\u001b[38;5;241m.\u001b[39m_table_name \u001b[38;5;129;01min\u001b[39;00m TABLES:\n",
      "File \u001b[0;32m~/.local/lib/python3.10/site-packages/anvil/server.py:422\u001b[0m, in \u001b[0;36mcall\u001b[0;34m(fn_name, *args, **kwargs)\u001b[0m\n\u001b[1;32m    419\u001b[0m     \u001b[38;5;28;01mreturn\u001b[39;00m _do_call(args, kwargs, fn_name\u001b[38;5;241m=\u001b[39mfn_name)\n\u001b[1;32m    420\u001b[0m \u001b[38;5;28;01mexcept\u001b[39;00m _server\u001b[38;5;241m.\u001b[39mAnvilWrappedError \u001b[38;5;28;01mas\u001b[39;00m e:\n\u001b[1;32m    421\u001b[0m     \u001b[38;5;66;03m# We need to re-raise here so that the right amount of traceback gets cut off by _report_exception\u001b[39;00m\n\u001b[0;32m--> 422\u001b[0m     \u001b[38;5;28;01mraise\u001b[39;00m _server\u001b[38;5;241m.\u001b[39m_deserialise_exception(e\u001b[38;5;241m.\u001b[39merror_obj)\n",
      "\u001b[0;31mAnvilWrappedError\u001b[0m: local variable 'values' referenced before assignment"
     ]
    }
   ],
   "source": [
    "app_tables.movies.add_row(movie_name=\"Interstellar\", year=2009, director=\"Christopher Nolan\",summary=\"Summary of the movie interstellar\")"
   ]
  },
  {
   "cell_type": "code",
   "execution_count": 4,
   "metadata": {},
   "outputs": [
    {
     "name": "stderr",
     "output_type": "stream",
     "text": [
      "/home/divyansh/.local/lib/python3.10/site-packages/anvil/_threaded_server.py:323: DeprecationWarning: notifyAll() is deprecated, use notify_all() instead\n",
      "  waiting_for_calls.notifyAll()\n",
      "/home/divyansh/.local/lib/python3.10/site-packages/anvil/_threaded_server.py:323: DeprecationWarning: notifyAll() is deprecated, use notify_all() instead\n",
      "  waiting_for_calls.notifyAll()\n",
      "/home/divyansh/.local/lib/python3.10/site-packages/anvil/_threaded_server.py:323: DeprecationWarning: notifyAll() is deprecated, use notify_all() instead\n",
      "  waiting_for_calls.notifyAll()\n",
      "/home/divyansh/.local/lib/python3.10/site-packages/anvil/_threaded_server.py:323: DeprecationWarning: notifyAll() is deprecated, use notify_all() instead\n",
      "  waiting_for_calls.notifyAll()\n",
      "/home/divyansh/.local/lib/python3.10/site-packages/anvil/_threaded_server.py:323: DeprecationWarning: notifyAll() is deprecated, use notify_all() instead\n",
      "  waiting_for_calls.notifyAll()\n",
      "/home/divyansh/.local/lib/python3.10/site-packages/anvil/_threaded_server.py:323: DeprecationWarning: notifyAll() is deprecated, use notify_all() instead\n",
      "  waiting_for_calls.notifyAll()\n"
     ]
    },
    {
     "name": "stderr",
     "output_type": "stream",
     "text": [
      ".\n",
      "----------------------------------------------------------------------\n",
      "Ran 1 test in 2.005s\n",
      "\n",
      "OK\n"
     ]
    }
   ],
   "source": [
    "class TestAppTables(unittest.TestCase):\n",
    "    #Testing the generic search\n",
    "    def test_search_results(self):\n",
    "        movies = app_tables.movies.search()\n",
    "        anvil_movies = anvil_app_tables.movies.search()\n",
    "        def row_to_dict(anvil_movies):\n",
    "            anvil_movies_list=[]\n",
    "            for i in range(len(list(anvil_movies))):\n",
    "                temp={}\n",
    "                for k,v in list(anvil_movies)[i]:\n",
    "                    temp[k]=v\n",
    "                anvil_movies_list.append(temp)\n",
    "            return anvil_movies_list\n",
    "        movies_list = row_to_dict(movies)\n",
    "        anvil_movies_list =row_to_dict(anvil_movies)\n",
    "        # Assert that both lists contain the same data\n",
    "        self.assertEqual(movies_list,anvil_movies_list)\n",
    "\n",
    "if __name__ == \"__main__\":\n",
    "    unittest.main(argv=[''], exit=False)"
   ]
  },
  {
   "cell_type": "code",
   "execution_count": 6,
   "metadata": {},
   "outputs": [
    {
     "name": "stderr",
     "output_type": "stream",
     "text": [
      "F"
     ]
    },
    {
     "name": "stdout",
     "output_type": "stream",
     "text": [
      "Error searching rows in movies: Error binding parameter 0 - probably unsupported type.\n",
      "\n",
      "⚠️ Test-> Search with between filter failed:  Error binding parameter 0 - probably unsupported type.\n"
     ]
    },
    {
     "name": "stderr",
     "output_type": "stream",
     "text": [
      "..\n",
      "======================================================================\n",
      "FAIL: test_search_Between (__main__.TestAppTablesSearch)\n",
      "Test search with a specific filter (movie_name=\"The Matrix\").\n",
      "----------------------------------------------------------------------\n",
      "Traceback (most recent call last):\n",
      "  File \"/home/divyansh/.local/lib/python3.10/site-packages/anvil/server.py\", line 419, in call\n",
      "    return _do_call(args, kwargs, fn_name=fn_name)\n",
      "  File \"/home/divyansh/.local/lib/python3.10/site-packages/anvil/server.py\", line 409, in _do_call\n",
      "    return _threaded_server.do_call(args, kwargs, fn_name=fn_name, live_object=live_object)\n",
      "  File \"/home/divyansh/.local/lib/python3.10/site-packages/anvil/_threaded_server.py\", line 436, in do_call\n",
      "    raise error_from_server\n",
      "anvil._server.AnvilWrappedError: Error binding parameter 0 - probably unsupported type.\n",
      "\n",
      "During handling of the above exception, another exception occurred:\n",
      "\n",
      "Traceback (most recent call last):\n",
      "  File \"/tmp/ipykernel_196592/1737572634.py\", line 67, in test_search_Between\n",
      "    movies = app_tables.movies.search(year=q.greater_than(2008))\n",
      "  File \"/home/divyansh/repos/Anvil-Demo-App/wrapper.py\", line 268, in search\n",
      "    filtered_rows=anvil.server.call('get_rows_by_conditions',self._table_name,conditions)\n",
      "  File \"/home/divyansh/.local/lib/python3.10/site-packages/anvil/server.py\", line 422, in call\n",
      "    raise _server._deserialise_exception(e.error_obj)\n",
      "anvil._server.AnvilWrappedError: Error binding parameter 0 - probably unsupported type.\n",
      "\n",
      "During handling of the above exception, another exception occurred:\n",
      "\n",
      "Traceback (most recent call last):\n",
      "  File \"/tmp/ipykernel_196592/1737572634.py\", line 77, in test_search_Between\n",
      "    self.fail(\"Test-> Search with between filter failed: \")\n",
      "AssertionError: Test-> Search with between filter failed: \n",
      "\n",
      "----------------------------------------------------------------------\n",
      "Ran 3 tests in 4.125s\n",
      "\n",
      "FAILED (failures=1)\n"
     ]
    }
   ],
   "source": [
    "import anvil.server\n",
    "import unittest\n",
    "from wrapper import app_tables\n",
    "import anvil.tables.query as q\n",
    "from anvil.tables import app_tables as anvil_app_tables\n",
    "\n",
    "anvil.server.connect(\"server_EUULOP6PWUBMCRVWHL6SUTVD-LYUQJELFCMQWM33V\")\n",
    "\n",
    "class TestAppTablesSearch(unittest.TestCase):\n",
    "    def row_to_dict(self,anvil_movies):\n",
    "        anvil_movies_list=[]\n",
    "        for i in range(len(list(anvil_movies))):\n",
    "            temp={}\n",
    "            for k,v in list(anvil_movies)[i]:\n",
    "                temp[k]=v\n",
    "            anvil_movies_list.append(temp)\n",
    "        return anvil_movies_list\n",
    "\n",
    "    def test_search_results(self):\n",
    "        try:\n",
    "            movies = app_tables.movies.search()\n",
    "            anvil_movies = anvil_app_tables.movies.search()\n",
    "\n",
    "            movies_list = self.row_to_dict(movies)\n",
    "            anvil_movies_list = self.row_to_dict(anvil_movies)\n",
    "            # print(movies_list)\n",
    "            # print(\"Search Successful\")\n",
    "            self.assertEqual(movies_list, anvil_movies_list, \"Mismatch found in complete search\")\n",
    "            # print(\"Search Successful\")\n",
    "        except Exception as e:\n",
    "            print(\"\\n⚠️ Test-> Search failed: \", str(e))\n",
    "            self.fail(\"Test-> Search failed: \") \n",
    "\n",
    "    def test_search_onColumn(self):\n",
    "        \"\"\"Test search with a specific filter (movie_name=\"The Matrix\").\"\"\"\n",
    "        try:\n",
    "            movies = app_tables.movies.search(movie_name=\"The Matrix\")\n",
    "            anvil_movies = anvil_app_tables.movies.search(movie_name=\"The Matrix\")\n",
    "\n",
    "            movies_list = self.row_to_dict(movies)\n",
    "            anvil_movies_list = self.row_to_dict(anvil_movies)\n",
    "            # print(movies_list)\n",
    "            # print(\"Search with Filter Successful\")\n",
    "            self.assertEqual(movies_list, anvil_movies_list, \"Mismatch found when filtering by movie_name\")\n",
    "        except Exception as e:\n",
    "            print(\"\\n⚠️ Test-> Search with filter failed: \", str(e))\n",
    "            self.fail(\"Test-> Search with filter failed: \") \n",
    "\n",
    "\n",
    "    def test_search_onColumn(self):\n",
    "        \"\"\"Test search with a specific filter (movie_name=\"The Matrix\").\"\"\"\n",
    "        try:\n",
    "            movies = app_tables.movies.search(movie_name=\"The Matrix\")\n",
    "            anvil_movies = anvil_app_tables.movies.search(movie_name=\"The Matrix\")\n",
    "\n",
    "            movies_list = self.row_to_dict(movies)\n",
    "            anvil_movies_list = self.row_to_dict(anvil_movies)\n",
    "            # print(movies_list)\n",
    "            # print(\"Search with Filter Successful\")\n",
    "            self.assertEqual(movies_list, anvil_movies_list, \"Mismatch found when filtering by movie_name\")\n",
    "        except Exception as e:\n",
    "            print(\"\\n⚠️ Test-> Search with filter failed: \", str(e))\n",
    "            self.fail(\"Test-> Search with filter failed: \") \n",
    "    def test_search_Between(self):\n",
    "        \"\"\"Test search with a specific filter (movie_name=\"The Matrix\").\"\"\"\n",
    "        try:\n",
    "            movies = app_tables.movies.search(year=q.greater_than(2008))\n",
    "            anvil_movies = anvil_app_tables.movies.search(year=q.greater_than(2008))\n",
    "\n",
    "            movies_list = self.row_to_dict(movies)\n",
    "            anvil_movies_list = self.row_to_dict(anvil_movies)\n",
    "            # print(movies_list)\n",
    "            print(\"Search with Filter Successful\")\n",
    "            self.assertEqual(movies_list, anvil_movies_list, \"Mismatch found when filtering by movie_name\")\n",
    "        except Exception as e:\n",
    "            print(\"\\n⚠️ Test-> Search with between filter failed: \", str(e))\n",
    "            self.fail(\"Test-> Search with between filter failed: \") \n",
    "\n",
    "\n",
    "if __name__ == \"__main__\":\n",
    "    unittest.main(argv=[''], exit=False)"
   ]
  },
  {
   "cell_type": "code",
   "execution_count": 4,
   "metadata": {},
   "outputs": [
    {
     "name": "stderr",
     "output_type": "stream",
     "text": [
      ".\n",
      "----------------------------------------------------------------------\n",
      "Ran 1 test in 0.415s\n",
      "\n",
      "OK\n"
     ]
    },
    {
     "name": "stdout",
     "output_type": "stream",
     "text": [
      "Error adding row to movies: local variable 'values' referenced before assignment\n",
      "{'movie_name': 'Interstellar', 'year': 2009, 'director': 'Christopher Nolan', 'summary': 'Summary of the movie interstellar'}\n",
      "\n",
      "⚠️ test_add_row failed:  local variable 'values' referenced before assignment\n"
     ]
    }
   ],
   "source": [
    "import anvil.server\n",
    "import unittest\n",
    "from wrapper import app_tables\n",
    "from anvil.tables import app_tables as anvil_app_tables\n",
    "\n",
    "anvil.server.connect(\"server_EUULOP6PWUBMCRVWHL6SUTVD-LYUQJELFCMQWM33V\")\n",
    "\n",
    "class TestAppTables(unittest.TestCase):\n",
    "    def row_to_dict(self,anvil_movies):\n",
    "        anvil_movies_list=[]\n",
    "        for i in range(len(list(anvil_movies))):\n",
    "            temp={}\n",
    "            for k,v in list(anvil_movies)[i]:\n",
    "                temp[k]=v\n",
    "            anvil_movies_list.append(temp)\n",
    "        return anvil_movies_list\n",
    "    def test_add_row(self):\n",
    "        try:\n",
    "            app_tables.movies.add_row(movie_name=\"Interstellar\", year=2009, director=\"Christopher Nolan\",summary=\"Summary of the movie interstellar\")\n",
    "            movies = app_tables.movies.search(movie_name=\"Interstellar\")\n",
    "            anvil_movies = anvil_app_tables.movies.search(movie_name=\"Interstellar\")\n",
    "            movies_list = self.row_to_dict(movies)\n",
    "            anvil_movies_list = self.row_to_dict(anvil_movies)\n",
    "            print(movies_list)\n",
    "            # print(\"Test Add row worked successfully\")\n",
    "            self.assertEqual(movies_list, anvil_movies_list, \"Mismatch found when filtering by movie_name\")\n",
    "        \n",
    "        except Exception as e:\n",
    "            print(\"\\n⚠️ test_add_row failed: \", str(e))\n",
    "            # self.fail(\"test_add_row failed\") \n",
    "            return\n",
    "\n",
    "if __name__ == \"__main__\":\n",
    "    unittest.main(argv=[''], exit=False)"
   ]
  },
  {
   "cell_type": "code",
   "execution_count": 4,
   "metadata": {},
   "outputs": [
    {
     "name": "stderr",
     "output_type": "stream",
     "text": [
      "F\n",
      "======================================================================\n",
      "FAIL: test_search_results (__main__.TestAppTablesSortingSlicing)\n",
      "----------------------------------------------------------------------\n",
      "Traceback (most recent call last):\n",
      "  File \"/tmp/ipykernel_202364/4123801882.py\", line 22, in test_search_results\n",
      "    movies = app_tables.movies.search(tables.order_by(\"year\", ascending=False))\n",
      "TypeError: Table.search() takes 1 positional argument but 2 were given\n",
      "\n",
      "During handling of the above exception, another exception occurred:\n",
      "\n",
      "Traceback (most recent call last):\n",
      "  File \"/tmp/ipykernel_202364/4123801882.py\", line 34, in test_search_results\n",
      "    self.fail(\"Test-> Search failed: \")\n",
      "AssertionError: Test-> Search failed: \n",
      "\n",
      "----------------------------------------------------------------------\n",
      "Ran 1 test in 0.002s\n",
      "\n",
      "FAILED (failures=1)\n"
     ]
    },
    {
     "name": "stdout",
     "output_type": "stream",
     "text": [
      "\n",
      "⚠️ Test-> Search failed:  Table.search() takes 1 positional argument but 2 were given\n"
     ]
    }
   ],
   "source": [
    "import anvil.server\n",
    "import unittest\n",
    "from wrapper import app_tables\n",
    "import anvil.tables.query as q\n",
    "import anvil.tables as tables\n",
    "from anvil.tables import app_tables as anvil_app_tables\n",
    "\n",
    "anvil.server.connect(\"server_EUULOP6PWUBMCRVWHL6SUTVD-LYUQJELFCMQWM33V\")\n",
    "\n",
    "class TestAppTablesSortingSlicing(unittest.TestCase):\n",
    "    def row_to_dict(self,anvil_movies):\n",
    "        anvil_movies_list=[]\n",
    "        for i in range(len(list(anvil_movies))):\n",
    "            temp={}\n",
    "            for k,v in list(anvil_movies)[i]:\n",
    "                temp[k]=v\n",
    "            anvil_movies_list.append(temp)\n",
    "        return anvil_movies_list\n",
    "\n",
    "    def test_search_results(self):\n",
    "        try:\n",
    "            movies = app_tables.movies.search(tables.order_by(\"year\", ascending=False))\n",
    "            anvil_movies = anvil_app_tables.movies.search(tables.order_by(\"year\", ascending=False))\n",
    "\n",
    "            movies_list = self.row_to_dict(movies)\n",
    "            anvil_movies_list = self.row_to_dict(anvil_movies)\n",
    "            print(movies_list)\n",
    "            print(anvil_movies_list)\n",
    "            # print(\"Search Successful\")\n",
    "            # self.assertEqual(movies_list, anvil_movies_list, \"Mismatch found in complete search\")\n",
    "            # print(\"Search Successful\")\n",
    "        except Exception as e:\n",
    "            print(\"\\n⚠️ Test-> Search failed: \", str(e))\n",
    "            self.fail(\"Test-> Search failed: \") \n",
    "\n",
    "    \n",
    "if __name__ == \"__main__\":\n",
    "    unittest.main(argv=[''], exit=False)"
   ]
  },
  {
   "cell_type": "code",
   "execution_count": null,
   "metadata": {},
   "outputs": [],
   "source": []
  }
 ],
 "metadata": {
  "kernelspec": {
   "display_name": "Python 3",
   "language": "python",
   "name": "python3"
  },
  "language_info": {
   "codemirror_mode": {
    "name": "ipython",
    "version": 3
   },
   "file_extension": ".py",
   "mimetype": "text/x-python",
   "name": "python",
   "nbconvert_exporter": "python",
   "pygments_lexer": "ipython3",
   "version": "3.10.12"
  }
 },
 "nbformat": 4,
 "nbformat_minor": 2
}
